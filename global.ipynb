{
 "cells": [
  {
   "cell_type": "code",
   "execution_count": 8,
   "id": "c72a2ea1-55ea-46d6-9f33-f3926bc03292",
   "metadata": {
    "execution": {
     "iopub.execute_input": "2024-07-07T16:45:21.163102Z",
     "iopub.status.busy": "2024-07-07T16:45:21.162316Z",
     "iopub.status.idle": "2024-07-07T16:45:35.282804Z",
     "shell.execute_reply": "2024-07-07T16:45:35.282112Z",
     "shell.execute_reply.started": "2024-07-07T16:45:21.163065Z"
    }
   },
   "outputs": [],
   "source": [
    "import omegaconf\n",
    "\n",
    "import os\n",
    "\n",
    "import pandas as pd\n",
    "import tiktoken\n",
    "\n",
    "import os\n",
    "\n",
    "import pandas as pd\n",
    "import tiktoken\n",
    "\n",
    "from graphrag.query.indexer_adapters import read_indexer_entities, read_indexer_reports\n",
    "from graphrag.query.llm.oai.chat_openai import ChatOpenAI\n",
    "from graphrag.query.llm.oai.typing import OpenaiApiType, \n",
    "from graphrag.query.structured_search.global_search.community_context import (\n",
    "    GlobalCommunityContext,\n",
    ")\n",
    "from graphrag.query.structured_search.global_search.search import GlobalSearch\n"
   ]
  },
  {
   "cell_type": "code",
   "execution_count": 35,
   "id": "4f95e669-a781-499d-bee0-ef152afd2ea4",
   "metadata": {
    "execution": {
     "iopub.execute_input": "2024-07-07T16:59:39.932648Z",
     "iopub.status.busy": "2024-07-07T16:59:39.931966Z",
     "iopub.status.idle": "2024-07-07T16:59:39.938491Z",
     "shell.execute_reply": "2024-07-07T16:59:39.937773Z",
     "shell.execute_reply.started": "2024-07-07T16:59:39.932616Z"
    }
   },
   "outputs": [],
   "source": [
    "INPUT_DIR = \"./inputs/\"\n",
    "LANCEDB_URI = f\"{INPUT_DIR}/lancedb\"\n",
    "CONF = omegaconf.OmegaConf.load(\"config/api.yaml\")\n",
    "\n",
    "# parquet files generated from indexing pipeline\n",
    "COMMUNITY_REPORT_TABLE = \"create_final_community_reports\"\n",
    "ENTITY_TABLE = \"create_final_nodes\"\n",
    "ENTITY_EMBEDDING_TABLE = \"create_final_entities\"\n",
    "\n",
    "# community level in the Leiden community hierarchy from which we will load the community reports\n",
    "# higher value means we use reports from more fine-grained communities (at the cost of higher computation cost)\n",
    "COMMUNITY_LEVEL = 0"
   ]
  },
  {
   "cell_type": "code",
   "execution_count": 36,
   "id": "d78cd73b-f76e-4140-ad36-089344a30af1",
   "metadata": {
    "execution": {
     "iopub.execute_input": "2024-07-07T16:59:40.616715Z",
     "iopub.status.busy": "2024-07-07T16:59:40.616051Z",
     "iopub.status.idle": "2024-07-07T16:59:40.686012Z",
     "shell.execute_reply": "2024-07-07T16:59:40.685318Z",
     "shell.execute_reply.started": "2024-07-07T16:59:40.616683Z"
    }
   },
   "outputs": [],
   "source": [
    "llm = ChatOpenAI(\n",
    "    api_base=CONF.api.api_base, #CONF.api.endpoint,\n",
    "    api_key=CONF.api.key,\n",
    "    model=CONF.api.model,\n",
    "    api_type=OpenaiApiType.AzureOpenAI,  # OpenaiApiType.OpenAI or OpenaiApiType.AzureOpenAI\n",
    "    max_retries=2,\n",
    "    api_version=CONF.api.api_version\n",
    ")\n",
    "\n",
    "token_encoder = tiktoken.get_encoding(\"cl100k_base\")"
   ]
  },
  {
   "cell_type": "code",
   "execution_count": 37,
   "id": "4cc0aa4f-08a5-4608-a26d-a4214dba63df",
   "metadata": {
    "execution": {
     "iopub.execute_input": "2024-07-07T16:59:41.256161Z",
     "iopub.status.busy": "2024-07-07T16:59:41.255500Z",
     "iopub.status.idle": "2024-07-07T16:59:41.336456Z",
     "shell.execute_reply": "2024-07-07T16:59:41.335782Z",
     "shell.execute_reply.started": "2024-07-07T16:59:41.256127Z"
    }
   },
   "outputs": [
    {
     "name": "stdout",
     "output_type": "stream",
     "text": [
      "Report records: 18\n"
     ]
    },
    {
     "name": "stderr",
     "output_type": "stream",
     "text": [
      "/home/azureuser/ashutosh/miniconda3/envs/p310/lib/python3.10/site-packages/graphrag/query/indexer_adapters.py:71: SettingWithCopyWarning: \n",
      "A value is trying to be set on a copy of a slice from a DataFrame.\n",
      "Try using .loc[row_indexer,col_indexer] = value instead\n",
      "\n",
      "See the caveats in the documentation: https://pandas.pydata.org/pandas-docs/stable/user_guide/indexing.html#returning-a-view-versus-a-copy\n",
      "  entity_df[\"community\"] = entity_df[\"community\"].fillna(-1)\n",
      "/home/azureuser/ashutosh/miniconda3/envs/p310/lib/python3.10/site-packages/graphrag/query/indexer_adapters.py:72: SettingWithCopyWarning: \n",
      "A value is trying to be set on a copy of a slice from a DataFrame.\n",
      "Try using .loc[row_indexer,col_indexer] = value instead\n",
      "\n",
      "See the caveats in the documentation: https://pandas.pydata.org/pandas-docs/stable/user_guide/indexing.html#returning-a-view-versus-a-copy\n",
      "  entity_df[\"community\"] = entity_df[\"community\"].astype(int)\n"
     ]
    },
    {
     "data": {
      "text/html": [
       "<div>\n",
       "<style scoped>\n",
       "    .dataframe tbody tr th:only-of-type {\n",
       "        vertical-align: middle;\n",
       "    }\n",
       "\n",
       "    .dataframe tbody tr th {\n",
       "        vertical-align: top;\n",
       "    }\n",
       "\n",
       "    .dataframe thead th {\n",
       "        text-align: right;\n",
       "    }\n",
       "</style>\n",
       "<table border=\"1\" class=\"dataframe\">\n",
       "  <thead>\n",
       "    <tr style=\"text-align: right;\">\n",
       "      <th></th>\n",
       "      <th>community</th>\n",
       "      <th>full_content</th>\n",
       "      <th>level</th>\n",
       "      <th>rank</th>\n",
       "      <th>title</th>\n",
       "      <th>rank_explanation</th>\n",
       "      <th>summary</th>\n",
       "      <th>findings</th>\n",
       "      <th>full_content_json</th>\n",
       "      <th>id</th>\n",
       "    </tr>\n",
       "  </thead>\n",
       "  <tbody>\n",
       "    <tr>\n",
       "      <th>0</th>\n",
       "      <td>10</td>\n",
       "      <td># Dulce, Alien Data, and Intergalactic Contact...</td>\n",
       "      <td>1</td>\n",
       "      <td>7.5</td>\n",
       "      <td>Dulce, Alien Data, and Intergalactic Contact</td>\n",
       "      <td>The impact severity rating is high due to the ...</td>\n",
       "      <td>The community revolves around Dulce, a locatio...</td>\n",
       "      <td>[{'explanation': 'Dulce is the central entity ...</td>\n",
       "      <td>{\\n    \"title\": \"Dulce, Alien Data, and Interg...</td>\n",
       "      <td>59a5cee0-35bf-4a30-8a5e-912abd27b17c</td>\n",
       "    </tr>\n",
       "    <tr>\n",
       "      <th>1</th>\n",
       "      <td>11</td>\n",
       "      <td># The Signal and its Impact on Humanity\\n\\nThe...</td>\n",
       "      <td>1</td>\n",
       "      <td>7.5</td>\n",
       "      <td>The Signal and its Impact on Humanity</td>\n",
       "      <td>The impact severity rating is high due to the ...</td>\n",
       "      <td>The community revolves around The Signal, a pa...</td>\n",
       "      <td>[{'explanation': 'The Signal is the central en...</td>\n",
       "      <td>{\\n    \"title\": \"The Signal and its Impact on ...</td>\n",
       "      <td>0a37b9a6-efaf-4d92-8226-631c28ef6ca0</td>\n",
       "    </tr>\n",
       "    <tr>\n",
       "      <th>2</th>\n",
       "      <td>12</td>\n",
       "      <td># Earth and The Terminal\\n\\nThe community revo...</td>\n",
       "      <td>1</td>\n",
       "      <td>6.5</td>\n",
       "      <td>Earth and The Terminal</td>\n",
       "      <td>The impact severity rating is moderate due to ...</td>\n",
       "      <td>The community revolves around Earth and The Te...</td>\n",
       "      <td>[{'explanation': 'Earth is the central entity ...</td>\n",
       "      <td>{\\n    \"title\": \"Earth and The Terminal\",\\n   ...</td>\n",
       "      <td>d294ab13-775c-4387-995d-c1601bef7b72</td>\n",
       "    </tr>\n",
       "    <tr>\n",
       "      <th>3</th>\n",
       "      <td>13</td>\n",
       "      <td># The Paranormal Military Squad and Earth's Bi...</td>\n",
       "      <td>1</td>\n",
       "      <td>7.5</td>\n",
       "      <td>The Paranormal Military Squad and Earth's Bid ...</td>\n",
       "      <td>The impact severity rating is high due to the ...</td>\n",
       "      <td>The community revolves around The Paranormal M...</td>\n",
       "      <td>[{'explanation': 'The Paranormal Military Squa...</td>\n",
       "      <td>{\\n    \"title\": \"The Paranormal Military Squad...</td>\n",
       "      <td>8c8aee13-5b41-46ff-8cb4-0cb056968162</td>\n",
       "    </tr>\n",
       "    <tr>\n",
       "      <th>4</th>\n",
       "      <td>15</td>\n",
       "      <td># Paranormal Military Squad and Operation: Dul...</td>\n",
       "      <td>1</td>\n",
       "      <td>7.5</td>\n",
       "      <td>Paranormal Military Squad and Operation: Dulce</td>\n",
       "      <td>The impact severity rating is high due to the ...</td>\n",
       "      <td>The community revolves around the Paranormal M...</td>\n",
       "      <td>[{'explanation': 'Dulce Base serves as the cen...</td>\n",
       "      <td>{\\n    \"title\": \"Paranormal Military Squad and...</td>\n",
       "      <td>f019aabc-3e4b-4c1e-94a6-e1c98116e192</td>\n",
       "    </tr>\n",
       "  </tbody>\n",
       "</table>\n",
       "</div>"
      ],
      "text/plain": [
       "  community                                       full_content  level  rank  \\\n",
       "0        10  # Dulce, Alien Data, and Intergalactic Contact...      1   7.5   \n",
       "1        11  # The Signal and its Impact on Humanity\\n\\nThe...      1   7.5   \n",
       "2        12  # Earth and The Terminal\\n\\nThe community revo...      1   6.5   \n",
       "3        13  # The Paranormal Military Squad and Earth's Bi...      1   7.5   \n",
       "4        15  # Paranormal Military Squad and Operation: Dul...      1   7.5   \n",
       "\n",
       "                                               title  \\\n",
       "0       Dulce, Alien Data, and Intergalactic Contact   \n",
       "1              The Signal and its Impact on Humanity   \n",
       "2                             Earth and The Terminal   \n",
       "3  The Paranormal Military Squad and Earth's Bid ...   \n",
       "4     Paranormal Military Squad and Operation: Dulce   \n",
       "\n",
       "                                    rank_explanation  \\\n",
       "0  The impact severity rating is high due to the ...   \n",
       "1  The impact severity rating is high due to the ...   \n",
       "2  The impact severity rating is moderate due to ...   \n",
       "3  The impact severity rating is high due to the ...   \n",
       "4  The impact severity rating is high due to the ...   \n",
       "\n",
       "                                             summary  \\\n",
       "0  The community revolves around Dulce, a locatio...   \n",
       "1  The community revolves around The Signal, a pa...   \n",
       "2  The community revolves around Earth and The Te...   \n",
       "3  The community revolves around The Paranormal M...   \n",
       "4  The community revolves around the Paranormal M...   \n",
       "\n",
       "                                            findings  \\\n",
       "0  [{'explanation': 'Dulce is the central entity ...   \n",
       "1  [{'explanation': 'The Signal is the central en...   \n",
       "2  [{'explanation': 'Earth is the central entity ...   \n",
       "3  [{'explanation': 'The Paranormal Military Squa...   \n",
       "4  [{'explanation': 'Dulce Base serves as the cen...   \n",
       "\n",
       "                                   full_content_json  \\\n",
       "0  {\\n    \"title\": \"Dulce, Alien Data, and Interg...   \n",
       "1  {\\n    \"title\": \"The Signal and its Impact on ...   \n",
       "2  {\\n    \"title\": \"Earth and The Terminal\",\\n   ...   \n",
       "3  {\\n    \"title\": \"The Paranormal Military Squad...   \n",
       "4  {\\n    \"title\": \"Paranormal Military Squad and...   \n",
       "\n",
       "                                     id  \n",
       "0  59a5cee0-35bf-4a30-8a5e-912abd27b17c  \n",
       "1  0a37b9a6-efaf-4d92-8226-631c28ef6ca0  \n",
       "2  d294ab13-775c-4387-995d-c1601bef7b72  \n",
       "3  8c8aee13-5b41-46ff-8cb4-0cb056968162  \n",
       "4  f019aabc-3e4b-4c1e-94a6-e1c98116e192  "
      ]
     },
     "execution_count": 37,
     "metadata": {},
     "output_type": "execute_result"
    }
   ],
   "source": [
    "entity_df = pd.read_parquet(f\"{INPUT_DIR}/{ENTITY_TABLE}.parquet\")\n",
    "report_df = pd.read_parquet(f\"{INPUT_DIR}/{COMMUNITY_REPORT_TABLE}.parquet\")\n",
    "entity_embedding_df = pd.read_parquet(f\"{INPUT_DIR}/{ENTITY_EMBEDDING_TABLE}.parquet\")\n",
    "\n",
    "reports = read_indexer_reports(report_df, entity_df, COMMUNITY_LEVEL)\n",
    "entities = read_indexer_entities(entity_df, entity_embedding_df, COMMUNITY_LEVEL)\n",
    "print(f\"Report records: {len(report_df)}\")\n",
    "report_df.head()"
   ]
  },
  {
   "cell_type": "code",
   "execution_count": 38,
   "id": "1137b839-577c-49e4-8664-08cbd54135ce",
   "metadata": {
    "execution": {
     "iopub.execute_input": "2024-07-07T16:59:43.683558Z",
     "iopub.status.busy": "2024-07-07T16:59:43.682929Z",
     "iopub.status.idle": "2024-07-07T16:59:43.686914Z",
     "shell.execute_reply": "2024-07-07T16:59:43.686238Z",
     "shell.execute_reply.started": "2024-07-07T16:59:43.683528Z"
    }
   },
   "outputs": [],
   "source": [
    "context_builder = GlobalCommunityContext(\n",
    "    community_reports=reports,\n",
    "    entities=entities,  # default to None if you don't want to use community weights for ranking\n",
    "    token_encoder=token_encoder,\n",
    ")"
   ]
  },
  {
   "cell_type": "code",
   "execution_count": 39,
   "id": "280e601f-3455-4f77-bfdc-a462467bd702",
   "metadata": {
    "execution": {
     "iopub.execute_input": "2024-07-07T16:59:44.593498Z",
     "iopub.status.busy": "2024-07-07T16:59:44.593171Z",
     "iopub.status.idle": "2024-07-07T16:59:44.597989Z",
     "shell.execute_reply": "2024-07-07T16:59:44.597332Z",
     "shell.execute_reply.started": "2024-07-07T16:59:44.593470Z"
    }
   },
   "outputs": [],
   "source": [
    "context_builder_params = {\n",
    "    \"use_community_summary\": False,  # False means using full community reports. True means using community short summaries.\n",
    "    \"shuffle_data\": True,\n",
    "    \"include_community_rank\": True,\n",
    "    \"min_community_rank\": 0,\n",
    "    \"community_rank_name\": \"rank\",\n",
    "    \"include_community_weight\": True,\n",
    "    \"community_weight_name\": \"occurrence weight\",\n",
    "    \"normalize_community_weight\": True,\n",
    "    \"max_tokens\": 12_000,  # change this based on the token limit you have on your model (if you are using a model with 8k limit, a good setting could be 5000)\n",
    "    \"context_name\": \"Reports\",\n",
    "}\n",
    "\n",
    "map_llm_params = {\n",
    "    \"max_tokens\": 1000,\n",
    "    \"temperature\": 0.0,\n",
    "    \"response_format\": {\"type\": \"json_object\"},\n",
    "}\n",
    "\n",
    "reduce_llm_params = {\n",
    "    \"max_tokens\": 2000,  # change this based on the token limit you have on your model (if you are using a model with 8k limit, a good setting could be 1000-1500)\n",
    "    \"temperature\": 0.0,\n",
    "}"
   ]
  },
  {
   "cell_type": "code",
   "execution_count": 40,
   "id": "e9b5471b-9576-49ae-b3c6-749f38ad1c6e",
   "metadata": {
    "execution": {
     "iopub.execute_input": "2024-07-07T16:59:45.447192Z",
     "iopub.status.busy": "2024-07-07T16:59:45.446575Z",
     "iopub.status.idle": "2024-07-07T16:59:45.451339Z",
     "shell.execute_reply": "2024-07-07T16:59:45.450648Z",
     "shell.execute_reply.started": "2024-07-07T16:59:45.447159Z"
    }
   },
   "outputs": [],
   "source": [
    "search_engine = GlobalSearch(\n",
    "    llm=llm,\n",
    "    context_builder=context_builder,\n",
    "    token_encoder=token_encoder,\n",
    "    max_data_tokens=12_000,  # change this based on the token limit you have on your model (if you are using a model with 8k limit, a good setting could be 5000)\n",
    "    map_llm_params=map_llm_params,\n",
    "    reduce_llm_params=reduce_llm_params,\n",
    "    allow_general_knowledge=False,  # set this to True will add instruction to encourage the LLM to incorporate general knowledge in the response, which may increase hallucinations, but could be useful in some use cases.\n",
    "    json_mode=True,  # set this to False if your LLM model does not support JSON mode.\n",
    "    context_builder_params=context_builder_params,\n",
    "    concurrent_coroutines=32,\n",
    "    response_type=\"multiple paragraphs\",  # free form text describing the response type and format, can be anything, e.g. prioritized list, single paragraph, multiple paragraphs, multiple-page report\n",
    ")\n",
    "\n"
   ]
  },
  {
   "cell_type": "code",
   "execution_count": 41,
   "id": "fb13ceeb-7b48-4b85-b711-9ef0a8b6da0e",
   "metadata": {
    "execution": {
     "iopub.execute_input": "2024-07-07T16:59:46.568482Z",
     "iopub.status.busy": "2024-07-07T16:59:46.567852Z",
     "iopub.status.idle": "2024-07-07T16:59:55.974009Z",
     "shell.execute_reply": "2024-07-07T16:59:55.973308Z",
     "shell.execute_reply.started": "2024-07-07T16:59:46.568448Z"
    }
   },
   "outputs": [
    {
     "name": "stdout",
     "output_type": "stream",
     "text": [
      "### Major Conflict\n",
      "\n",
      "The central conflict in the story revolves around **Operation: Dulce**, a mission led by Alex Mercer and the Paranormal Military Squad. The primary objective of this operation is to decrypt an alien code and establish communication with an unknown intelligence. This mission is fraught with significant challenges and potential risks, as the team must navigate the complexities of the unknown and decipher the intentions of the alien intelligence [Data: Reports (0, 1, 3)].\n",
      "\n",
      "### Protagonist\n",
      "\n",
      "The protagonist of the story is **Alex Mercer**. He is the leader of the team and the Paranormal Military Squad. Alex displays determination, leadership, and diplomatic skills throughout the mission to decrypt the alien code and make contact with the unknown intelligence [Data: Reports (0, 3)].\n",
      "\n",
      "### Antagonist\n",
      "\n",
      "The antagonist in the story is the **unknown alien intelligence**. The team's mission to understand and communicate with this intelligence presents significant challenges and potential threats, making it the primary source of conflict in the narrative [Data: Reports (0, 1, 3)].\n",
      "\n",
      "In summary, the story's major conflict centers on the high-stakes mission of Operation: Dulce, with Alex Mercer as the determined protagonist leading the effort against the enigmatic and potentially threatening alien intelligence.\n"
     ]
    }
   ],
   "source": [
    "result = await search_engine.asearch(\n",
    "    \"What is the major conflict in this story and who are the protagonist and antagonist?\"\n",
    ")\n",
    "\n",
    "print(result.response)"
   ]
  },
  {
   "cell_type": "code",
   "execution_count": 42,
   "id": "54afa8b2-fe0c-4bba-bf88-1781de47bbe5",
   "metadata": {
    "execution": {
     "iopub.execute_input": "2024-07-07T16:59:56.121653Z",
     "iopub.status.busy": "2024-07-07T16:59:56.121407Z",
     "iopub.status.idle": "2024-07-07T16:59:56.130456Z",
     "shell.execute_reply": "2024-07-07T16:59:56.129794Z",
     "shell.execute_reply.started": "2024-07-07T16:59:56.121631Z"
    }
   },
   "outputs": [
    {
     "data": {
      "text/html": [
       "<div>\n",
       "<style scoped>\n",
       "    .dataframe tbody tr th:only-of-type {\n",
       "        vertical-align: middle;\n",
       "    }\n",
       "\n",
       "    .dataframe tbody tr th {\n",
       "        vertical-align: top;\n",
       "    }\n",
       "\n",
       "    .dataframe thead th {\n",
       "        text-align: right;\n",
       "    }\n",
       "</style>\n",
       "<table border=\"1\" class=\"dataframe\">\n",
       "  <thead>\n",
       "    <tr style=\"text-align: right;\">\n",
       "      <th></th>\n",
       "      <th>id</th>\n",
       "      <th>title</th>\n",
       "      <th>occurrence weight</th>\n",
       "      <th>content</th>\n",
       "      <th>rank</th>\n",
       "    </tr>\n",
       "  </thead>\n",
       "  <tbody>\n",
       "    <tr>\n",
       "      <th>0</th>\n",
       "      <td>3</td>\n",
       "      <td>The Team and Operation: Dulce</td>\n",
       "      <td>1.000000</td>\n",
       "      <td># The Team and Operation: Dulce\\n\\nThe communi...</td>\n",
       "      <td>6.0</td>\n",
       "    </tr>\n",
       "    <tr>\n",
       "      <th>1</th>\n",
       "      <td>1</td>\n",
       "      <td>Operation: Dulce and the Unknown Intelligence</td>\n",
       "      <td>0.964286</td>\n",
       "      <td># Operation: Dulce and the Unknown Intelligenc...</td>\n",
       "      <td>7.5</td>\n",
       "    </tr>\n",
       "    <tr>\n",
       "      <th>2</th>\n",
       "      <td>0</td>\n",
       "      <td>Operation: Dulce and the Alien Code</td>\n",
       "      <td>0.821429</td>\n",
       "      <td># Operation: Dulce and the Alien Code\\n\\nThe c...</td>\n",
       "      <td>7.5</td>\n",
       "    </tr>\n",
       "    <tr>\n",
       "      <th>3</th>\n",
       "      <td>2</td>\n",
       "      <td>The Signal and Paranormal Military Squad</td>\n",
       "      <td>0.250000</td>\n",
       "      <td># The Signal and Paranormal Military Squad\\n\\n...</td>\n",
       "      <td>7.5</td>\n",
       "    </tr>\n",
       "    <tr>\n",
       "      <th>4</th>\n",
       "      <td>4</td>\n",
       "      <td>Operation: Dulce and the Alien Intelligence</td>\n",
       "      <td>0.214286</td>\n",
       "      <td># Operation: Dulce and the Alien Intelligence\\...</td>\n",
       "      <td>7.5</td>\n",
       "    </tr>\n",
       "  </tbody>\n",
       "</table>\n",
       "</div>"
      ],
      "text/plain": [
       "  id                                          title  occurrence weight  \\\n",
       "0  3                  The Team and Operation: Dulce           1.000000   \n",
       "1  1  Operation: Dulce and the Unknown Intelligence           0.964286   \n",
       "2  0            Operation: Dulce and the Alien Code           0.821429   \n",
       "3  2       The Signal and Paranormal Military Squad           0.250000   \n",
       "4  4    Operation: Dulce and the Alien Intelligence           0.214286   \n",
       "\n",
       "                                             content  rank  \n",
       "0  # The Team and Operation: Dulce\\n\\nThe communi...   6.0  \n",
       "1  # Operation: Dulce and the Unknown Intelligenc...   7.5  \n",
       "2  # Operation: Dulce and the Alien Code\\n\\nThe c...   7.5  \n",
       "3  # The Signal and Paranormal Military Squad\\n\\n...   7.5  \n",
       "4  # Operation: Dulce and the Alien Intelligence\\...   7.5  "
      ]
     },
     "execution_count": 42,
     "metadata": {},
     "output_type": "execute_result"
    }
   ],
   "source": [
    "result.context_data[\"reports\"]"
   ]
  },
  {
   "cell_type": "code",
   "execution_count": 43,
   "id": "25316bf9-83ec-4c51-9ac1-a0044add9df4",
   "metadata": {
    "execution": {
     "iopub.execute_input": "2024-07-07T16:59:56.131763Z",
     "iopub.status.busy": "2024-07-07T16:59:56.131300Z",
     "iopub.status.idle": "2024-07-07T16:59:56.161060Z",
     "shell.execute_reply": "2024-07-07T16:59:56.160280Z",
     "shell.execute_reply.started": "2024-07-07T16:59:56.131729Z"
    }
   },
   "outputs": [
    {
     "name": "stdout",
     "output_type": "stream",
     "text": [
      "LLM calls: 2. LLM tokens: 5543\n"
     ]
    }
   ],
   "source": [
    "print(f\"LLM calls: {result.llm_calls}. LLM tokens: {result.prompt_tokens}\")"
   ]
  },
  {
   "cell_type": "code",
   "execution_count": null,
   "id": "76d4a7f4-cb97-48d2-9f0d-feacffb0c01d",
   "metadata": {},
   "outputs": [],
   "source": []
  },
  {
   "cell_type": "code",
   "execution_count": null,
   "id": "8a33b287-f503-4836-8a4e-aa574041283e",
   "metadata": {},
   "outputs": [],
   "source": []
  },
  {
   "cell_type": "code",
   "execution_count": null,
   "id": "5c9c3569-dd14-42a5-9b39-1babad1c5bd7",
   "metadata": {},
   "outputs": [],
   "source": []
  },
  {
   "cell_type": "code",
   "execution_count": null,
   "id": "b670a7de-ffc5-4929-b452-bf586d8f149b",
   "metadata": {},
   "outputs": [],
   "source": []
  },
  {
   "cell_type": "code",
   "execution_count": null,
   "id": "71dc668e-c93c-4f92-8e4d-2bf237404989",
   "metadata": {},
   "outputs": [],
   "source": []
  },
  {
   "cell_type": "code",
   "execution_count": null,
   "id": "cc4408f0-d124-4ff6-afd6-9cad074b2a36",
   "metadata": {},
   "outputs": [],
   "source": []
  },
  {
   "cell_type": "code",
   "execution_count": null,
   "id": "f9414808-ed7c-4b77-82f7-2c61ecd34fcc",
   "metadata": {},
   "outputs": [],
   "source": []
  },
  {
   "cell_type": "code",
   "execution_count": null,
   "id": "c82c9d38-f12a-4e50-8658-380d4ab89f3e",
   "metadata": {},
   "outputs": [],
   "source": []
  },
  {
   "cell_type": "code",
   "execution_count": null,
   "id": "f6e09b51-eec6-46e7-9c7f-0252241d9079",
   "metadata": {},
   "outputs": [],
   "source": []
  },
  {
   "cell_type": "code",
   "execution_count": null,
   "id": "5a315998-ed9d-44ae-9bd1-de8f59d03b2f",
   "metadata": {},
   "outputs": [],
   "source": []
  },
  {
   "cell_type": "code",
   "execution_count": null,
   "id": "38fa9959-4c68-4e2d-ba0b-26bd6d57a695",
   "metadata": {},
   "outputs": [],
   "source": []
  },
  {
   "cell_type": "code",
   "execution_count": null,
   "id": "fe9d6166-b5ef-4d37-8261-080e274b77e3",
   "metadata": {},
   "outputs": [],
   "source": []
  },
  {
   "cell_type": "code",
   "execution_count": null,
   "id": "65a15e18-ad62-4db7-b79e-184ff07e68ff",
   "metadata": {},
   "outputs": [],
   "source": []
  },
  {
   "cell_type": "code",
   "execution_count": null,
   "id": "5547a22d-f467-4942-a3c3-3b775c546cab",
   "metadata": {},
   "outputs": [],
   "source": []
  },
  {
   "cell_type": "code",
   "execution_count": null,
   "id": "af6eda04-9583-4542-9ca7-1d6f1b962814",
   "metadata": {},
   "outputs": [],
   "source": []
  },
  {
   "cell_type": "code",
   "execution_count": null,
   "id": "920db782-7382-45cf-bd5e-da88a15365f2",
   "metadata": {},
   "outputs": [],
   "source": []
  },
  {
   "cell_type": "code",
   "execution_count": null,
   "id": "02258bb8-1553-4776-8012-cd45d5259b24",
   "metadata": {},
   "outputs": [],
   "source": []
  },
  {
   "cell_type": "code",
   "execution_count": null,
   "id": "3c34dfc6-2e27-4ffc-bfef-623948c73c31",
   "metadata": {},
   "outputs": [],
   "source": []
  }
 ],
 "metadata": {
  "kernelspec": {
   "display_name": "Python 3 (ipykernel)",
   "language": "python",
   "name": "python3"
  },
  "language_info": {
   "codemirror_mode": {
    "name": "ipython",
    "version": 3
   },
   "file_extension": ".py",
   "mimetype": "text/x-python",
   "name": "python",
   "nbconvert_exporter": "python",
   "pygments_lexer": "ipython3",
   "version": "3.10.14"
  }
 },
 "nbformat": 4,
 "nbformat_minor": 5
}
